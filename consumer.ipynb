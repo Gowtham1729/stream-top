{
 "cells": [
  {
   "cell_type": "code",
   "execution_count": 1,
   "metadata": {
    "ExecuteTime": {
     "end_time": "2023-05-16T14:44:14.741761100Z",
     "start_time": "2023-05-16T14:44:14.541882500Z"
    }
   },
   "outputs": [],
   "source": [
    "from confluent_kafka import Consumer\n",
    "from common.config import CONSUMER_KAFKA_CONF as KAFKA_CONF, TOPIC_NAME, TIMEZONE\n",
    "from common.logger import configure_logger\n",
    "\n",
    "logger = configure_logger(__name__)\n",
    "\n",
    "consumer = Consumer(KAFKA_CONF)\n",
    "consumer.subscribe([TOPIC_NAME])"
   ]
  },
  {
   "cell_type": "code",
   "execution_count": 2,
   "metadata": {
    "ExecuteTime": {
     "end_time": "2023-05-16T07:51:56.375612100Z",
     "start_time": "2023-05-16T07:51:56.260228400Z"
    }
   },
   "outputs": [],
   "source": [
    "import ast\n",
    "from datetime import datetime\n",
    "import pytz\n",
    "\n",
    "utc_timezone = pytz.timezone('UTC')\n",
    "jst_timezone = pytz.timezone(TIMEZONE)\n",
    "\n",
    "def get_cpu():\n",
    "    while True:\n",
    "        msg = consumer.poll(0.01)\n",
    "        if msg is None:\n",
    "            continue\n",
    "\n",
    "        utc_time = utc_timezone.localize(datetime.utcfromtimestamp(msg.timestamp()[1]/1000))\n",
    "        jst_time = utc_time.astimezone(jst_timezone)\n",
    "\n",
    "        yield jst_time, ast.literal_eval(msg.value().decode('utf-8'))"
   ]
  },
  {
   "cell_type": "code",
   "execution_count": 3,
   "metadata": {
    "ExecuteTime": {
     "end_time": "2023-05-16T07:52:03.698155Z",
     "start_time": "2023-05-16T07:51:56.933143800Z"
    }
   },
   "outputs": [
    {
     "name": "stderr",
     "output_type": "stream",
     "text": [
      "2023-05-18 13:53:12,709 - INFO - (datetime.datetime(2023, 5, 18, 13, 31, 25, 613000, tzinfo=<DstTzInfo 'Asia/Tokyo' JST+9:00:00 STD>), [3.1, 3.1, 1.0, 3.1, 4.2, 3.1, 2.1, 0.0, 2.1, 0.0, 1.0, 6.2, 2.1, 2.1, 0.0, 0.0])\n"
     ]
    }
   ],
   "source": [
    "cpu_gen = get_cpu()\n",
    "logger.info(next(cpu_gen))"
   ]
  },
  {
   "cell_type": "code",
   "execution_count": 6,
   "metadata": {
    "ExecuteTime": {
     "end_time": "2023-05-16T07:52:13.422301500Z",
     "start_time": "2023-05-16T07:52:12.189677300Z"
    },
    "scrolled": false
   },
   "outputs": [
    {
     "data": {
      "text/html": [
       "\n",
       "        <iframe\n",
       "            width=\"100%\"\n",
       "            height=\"650\"\n",
       "            src=\"http://127.0.0.1:8050/\"\n",
       "            frameborder=\"0\"\n",
       "            allowfullscreen\n",
       "            \n",
       "        ></iframe>\n",
       "        "
      ],
      "text/plain": [
       "<IPython.lib.display.IFrame at 0x269e8dda860>"
      ]
     },
     "metadata": {},
     "output_type": "display_data"
    }
   ],
   "source": [
    "from jupyter_dash import JupyterDash\n",
    "from dash import dcc\n",
    "from dash import html\n",
    "from dash.dependencies import Input, Output\n",
    "import plotly.graph_objs as go\n",
    "from collections import deque\n",
    "\n",
    "app = JupyterDash(__name__)\n",
    "\n",
    "app.layout = html.Div(\n",
    "    [\n",
    "        dcc.Graph(id='live-graph', animate=True),\n",
    "        dcc.Interval(\n",
    "            id='graph-update',\n",
    "            interval=1 * 1000,\n",
    "        ),\n",
    "    ]\n",
    ")\n",
    "\n",
    "cpu_gen = get_cpu()\n",
    "usages = next(cpu_gen)\n",
    "logger.info(usages)\n",
    "\n",
    "X = deque(maxlen=15)\n",
    "Ys = [deque(maxlen=15) for _ in range(len(usages[1]))]\n",
    "\n",
    "\n",
    "@app.callback(Output('live-graph', 'figure'),\n",
    "              [Input('graph-update', 'n_intervals')])\n",
    "def update_graph_scatter(input_data):\n",
    "    x, y = next(cpu_gen)\n",
    "    X.append(x)\n",
    "\n",
    "    data = []\n",
    "    for i, cpu_usage in enumerate(y):\n",
    "        Ys[i].append(cpu_usage)\n",
    "        data.append(go.Scatter(\n",
    "            x=list(X),\n",
    "            y=list(Ys[i]),\n",
    "            name=f'CPU-{i}',\n",
    "            mode='lines+markers'\n",
    "        ))\n",
    "\n",
    "    return {\n",
    "        'data': data,\n",
    "        'layout': go.Layout(\n",
    "            xaxis=dict(range=[min(X), max(X)], title='Time'),\n",
    "            yaxis=dict(range=[0, 100], title=\"CPU\"),\n",
    "        )\n",
    "    }\n",
    "\n",
    "\n",
    "app.run_server(mode='inline')\n",
    "\n"
   ]
  },
  {
   "cell_type": "code",
   "execution_count": null,
   "metadata": {},
   "outputs": [],
   "source": []
  }
 ],
 "metadata": {
  "kernelspec": {
   "display_name": "Python 3 (ipykernel)",
   "language": "python",
   "name": "python3"
  },
  "language_info": {
   "codemirror_mode": {
    "name": "ipython",
    "version": 3
   },
   "file_extension": ".py",
   "mimetype": "text/x-python",
   "name": "python",
   "nbconvert_exporter": "python",
   "pygments_lexer": "ipython3",
   "version": "3.10.11"
  }
 },
 "nbformat": 4,
 "nbformat_minor": 1
}
