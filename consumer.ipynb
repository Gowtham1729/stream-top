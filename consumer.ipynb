{
 "cells": [
  {
   "cell_type": "code",
   "execution_count": 1,
   "metadata": {
    "ExecuteTime": {
     "end_time": "2023-05-16T14:44:14.741761100Z",
     "start_time": "2023-05-16T14:44:14.541882500Z"
    }
   },
   "outputs": [],
   "source": [
    "from confluent_kafka import Consumer\n",
    "\n",
    "KAFKA_CONF = {\n",
    "    'bootstrap.servers': \"localhost:9092\",\n",
    "    'group.id': \"my_group\",\n",
    "    'auto.offset.reset': 'earliest'\n",
    "}\n",
    "consumer = Consumer(KAFKA_CONF)"
   ]
  },
  {
   "cell_type": "code",
   "execution_count": 2,
   "metadata": {
    "ExecuteTime": {
     "end_time": "2023-05-16T07:51:55.977232400Z",
     "start_time": "2023-05-16T07:51:55.955670800Z"
    }
   },
   "outputs": [],
   "source": [
    "TOPIC_NAME = \"top-events\""
   ]
  },
  {
   "cell_type": "code",
   "execution_count": 3,
   "metadata": {
    "ExecuteTime": {
     "end_time": "2023-05-16T07:51:56.178194100Z",
     "start_time": "2023-05-16T07:51:56.145321600Z"
    }
   },
   "outputs": [],
   "source": [
    "consumer.subscribe([\"top-events\"])"
   ]
  },
  {
   "cell_type": "code",
   "execution_count": 4,
   "metadata": {
    "ExecuteTime": {
     "end_time": "2023-05-16T07:51:56.375612100Z",
     "start_time": "2023-05-16T07:51:56.260228400Z"
    }
   },
   "outputs": [],
   "source": [
    "import ast\n",
    "from datetime import datetime\n",
    "import pytz\n",
    "\n",
    "utc_timezone = pytz.timezone('UTC')\n",
    "jst_timezone = pytz.timezone('Asia/Tokyo')\n",
    "\n",
    "def get_cpu():\n",
    "    while True:\n",
    "        msg = consumer.poll(0.01)\n",
    "        if msg is None:\n",
    "            continue\n",
    "\n",
    "        utc_time = utc_timezone.localize(datetime.utcfromtimestamp(msg.timestamp()[1]/1000))\n",
    "        jst_time = utc_time.astimezone(jst_timezone)\n",
    "\n",
    "        yield jst_time, ast.literal_eval(msg.value().decode('utf-8'))"
   ]
  },
  {
   "cell_type": "code",
   "execution_count": null,
   "metadata": {
    "ExecuteTime": {
     "end_time": "2023-05-16T07:52:03.698155Z",
     "start_time": "2023-05-16T07:51:56.933143800Z"
    }
   },
   "outputs": [],
   "source": [
    "cpu_gen = get_cpu()\n",
    "print(next(cpu_gen))"
   ]
  },
  {
   "cell_type": "code",
   "execution_count": null,
   "metadata": {
    "ExecuteTime": {
     "end_time": "2023-05-16T07:52:13.422301500Z",
     "start_time": "2023-05-16T07:52:12.189677300Z"
    },
    "scrolled": false
   },
   "outputs": [],
   "source": [
    "from jupyter_dash import JupyterDash\n",
    "from dash import dcc\n",
    "from dash import html\n",
    "from dash.dependencies import Input, Output\n",
    "import plotly.graph_objs as go\n",
    "from collections import deque\n",
    "\n",
    "app = JupyterDash(__name__)\n",
    "\n",
    "app.layout = html.Div(\n",
    "    [\n",
    "        dcc.Graph(id='live-graph', animate=True),\n",
    "        dcc.Interval(\n",
    "            id='graph-update',\n",
    "            interval=1 * 1000,\n",
    "        ),\n",
    "    ]\n",
    ")\n",
    "\n",
    "cpu_gen = get_cpu()\n",
    "print(next(cpu_gen) )\n",
    "\n",
    "X = deque(maxlen=15)\n",
    "Ys = [deque(maxlen=15) for _ in range(16)]\n",
    "\n",
    "\n",
    "@app.callback(Output('live-graph', 'figure'),\n",
    "              [Input('graph-update', 'n_intervals')])\n",
    "def update_graph_scatter(input_data):\n",
    "    x, y = next(cpu_gen)\n",
    "    X.append(x)\n",
    "\n",
    "    data = []\n",
    "    for i in range(16):\n",
    "        Ys[i].append(y[i])\n",
    "        data.append(go.Scatter(\n",
    "            x=list(X),\n",
    "            y=list(Ys[i]),\n",
    "            name=f'CPU-{i}',\n",
    "            mode='lines+markers'\n",
    "        ))\n",
    "\n",
    "    return {\n",
    "        'data': data,\n",
    "        'layout': go.Layout(\n",
    "            xaxis=dict(range=[min(X), max(X)], title='Time'),\n",
    "            yaxis=dict(range=[0, 100], title=\"CPU\"),\n",
    "        )\n",
    "    }\n",
    "\n",
    "\n",
    "app.run_server(mode='inline')\n",
    "\n"
   ]
  },
  {
   "cell_type": "code",
   "execution_count": null,
   "metadata": {},
   "outputs": [],
   "source": []
  }
 ],
 "metadata": {
  "kernelspec": {
   "display_name": "Python 3 (ipykernel)",
   "language": "python",
   "name": "python3"
  },
  "language_info": {
   "codemirror_mode": {
    "name": "ipython",
    "version": 3
   },
   "file_extension": ".py",
   "mimetype": "text/x-python",
   "name": "python",
   "nbconvert_exporter": "python",
   "pygments_lexer": "ipython3",
   "version": "3.10.11"
  }
 },
 "nbformat": 4,
 "nbformat_minor": 1
}
